{
 "cells": [
  {
   "cell_type": "markdown",
   "metadata": {},
   "source": [
    "# ***Ricetta panini dei morti***"
   ]
  },
  {
   "cell_type": "markdown",
   "metadata": {},
   "source": [
    "##### **Tempo di preparazione:** 60 minuti\n",
    "##### **Dosi:**  5 biscotti (1 persona)\n",
    "##### **Difficoltà:** facile "
   ]
  },
  {
   "cell_type": "code",
   "execution_count": 18,
   "metadata": {},
   "outputs": [],
   "source": [
    "## ***Ingredienti per 1 persona*** \n",
    "biscotti_secchi=50 \n",
    "zucchero_semolato=25\n",
    "farina_00=25\n",
    "uvetta=20\n",
    "pinoli=10\n",
    "albumi=0,5 \n",
    "bacca_di_vaniglia=0,25\n",
    "lievito_per_dolci=0,25\n",
    "zucchero_a_velo=10"
   ]
  },
  {
   "cell_type": "code",
   "execution_count": 19,
   "metadata": {},
   "outputs": [],
   "source": [
    "persone=4"
   ]
  },
  {
   "cell_type": "code",
   "execution_count": 20,
   "metadata": {},
   "outputs": [],
   "source": [
    "biscotti_secchi_tot=biscotti_secchi*persone\n",
    "zucchero_semolato_tot=zucchero_semolato*persone\n",
    "farina_00_tot=farina_00*persone\n",
    "uvetta_tot=uvetta*persone\n",
    "pinoli_tot=pinoli*persone\n",
    "albumi_tot=albumi*persone \n",
    "bacca_di_vaniglia_tot=bacca_di_vaniglia*persone\n",
    "lievito_per_dolci_tot=lievito_per_dolci*persone\n",
    "zucchero_a_velo_tot=zucchero_a_velo*persone"
   ]
  },
  {
   "cell_type": "code",
   "execution_count": 21,
   "metadata": {},
   "outputs": [
    {
     "name": "stdout",
     "output_type": "stream",
     "text": [
      "Ricetta per 4 persone:\n"
     ]
    }
   ],
   "source": [
    "print (\"Ricetta per\", persone, \"persone:\")"
   ]
  },
  {
   "cell_type": "code",
   "execution_count": 22,
   "metadata": {},
   "outputs": [
    {
     "name": "stdout",
     "output_type": "stream",
     "text": [
      "biscotti_secchi: 200 g\n",
      "zucchero_semolato: 100 g\n",
      "farina_00: 100 g\n",
      "uvetta: 80 g\n",
      "pinoli: 40 g\n",
      "albumi: (0, 5, 0, 5, 0, 5, 0, 5) g\n",
      "bacca_di_vaniglia (0, 25, 0, 25, 0, 25, 0, 25) g\n",
      "lievito_per_dolci: (0, 25, 0, 25, 0, 25, 0, 25) g\n",
      "zucchero_a_velo: 40 g\n"
     ]
    }
   ],
   "source": [
    "print(\"biscotti_secchi:\", biscotti_secchi_tot, \"g\") \n",
    "print(\"zucchero_semolato:\", zucchero_semolato_tot, \"g\")\n",
    "print(\"farina_00:\", farina_00_tot, \"g\")\n",
    "print(\"uvetta:\", uvetta_tot, \"g\")\n",
    "print(\"pinoli:\", pinoli_tot, \"g\")\n",
    "print(\"albumi:\", albumi_tot, \"g\")\n",
    "print(\"bacca_di_vaniglia\", bacca_di_vaniglia_tot, \"g\")\n",
    "print(\"lievito_per_dolci:\", lievito_per_dolci_tot, \"g\")\n",
    "print(\"zucchero_a_velo:\", zucchero_a_velo_tot, \"g\")"
   ]
  },
  {
   "cell_type": "markdown",
   "metadata": {},
   "source": [
    "NB: non sono riuscita a capire perchè albumi, bacca di vaniglia e lievito per dolci non riesce a fare il calcolo"
   ]
  },
  {
   "cell_type": "code",
   "execution_count": null,
   "metadata": {},
   "outputs": [],
   "source": []
  }
 ],
 "metadata": {
  "kernelspec": {
   "display_name": "Python 3",
   "language": "python",
   "name": "python3"
  },
  "language_info": {
   "codemirror_mode": {
    "name": "ipython",
    "version": 3
   },
   "file_extension": ".py",
   "mimetype": "text/x-python",
   "name": "python",
   "nbconvert_exporter": "python",
   "pygments_lexer": "ipython3",
   "version": "3.8.3"
  }
 },
 "nbformat": 4,
 "nbformat_minor": 4
}
